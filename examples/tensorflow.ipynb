{
 "cells": [
  {
   "cell_type": "markdown",
   "metadata": {},
   "source": [
    "# ConfigState example with training a model using Tensorflow\n",
    "\n",
    "This notebook presents an example of how the config-state library can be used to design a machine learning experiment that consists in training an image classification model. We show how the different components, the dataset, the model and the optimizer can be configured and modified through a config file without requiring to write code. We also show how the experiment can be saved at regular intervals and be resumed in case of interruption."
   ]
  },
  {
   "cell_type": "markdown",
   "metadata": {
    "collapsed": true
   },
   "source": [
    "### Requirements\n",
    "\n",
    "The packages `tensorflow` and `tensorflow-datasets` are required for this example:\n",
    "```\n",
    "pip install tensorflow\n",
    "pip install tensorflow-datasets\n",
    "```"
   ]
  },
  {
   "cell_type": "markdown",
   "metadata": {},
   "source": [
    "### The `MLExperiment` class\n",
    "\n",
    "The `MLExperiment` class is a `ConfigState` subclass that defines the experiment consisting of training a machine learning model for image classification. It is composed of nested `ConfigState` objects that represent the different components such as `Dataset`, `Model` and `Optimizer`."
   ]
  },
  {
   "cell_type": "code",
   "execution_count": 1,
   "metadata": {},
   "outputs": [
    {
     "name": "stderr",
     "output_type": "stream",
     "text": [
      "2021-08-25 03:31:21.140619: I tensorflow/stream_executor/platform/default/dso_loader.cc:53] Successfully opened dynamic library libcudart.so.11.0\n"
     ]
    }
   ],
   "source": [
    "import os\n",
    "os.environ['TF_CPP_MIN_LOG_LEVEL'] = '3' # reduce tensorflow's verbosity\n",
    "\n",
    "from examples.tensorflow.experiment import MLExperiment"
   ]
  },
  {
   "cell_type": "markdown",
   "metadata": {},
   "source": [
    "### Configuring a `MLExperiment` experiment\n",
    "The directory `examples/tensorflow/configs` contains examples of configuration files that can be used to configure an experiment. Let's load one:"
   ]
  },
  {
   "cell_type": "code",
   "execution_count": 2,
   "metadata": {},
   "outputs": [],
   "source": [
    "import yaml\n",
    "\n",
    "config = yaml.load(open(\"tensorflow/configs/mlp.yml\", 'r'), Loader=yaml.FullLoader)"
   ]
  },
  {
   "cell_type": "markdown",
   "metadata": {},
   "source": [
    "An experiment can be instantiated using this configuration:"
   ]
  },
  {
   "cell_type": "code",
   "execution_count": 3,
   "metadata": {},
   "outputs": [
    {
     "name": "stdout",
     "output_type": "stream",
     "text": [
      "dataset:\n",
      "  batch_size: 32\n",
      "  name: mnist\n",
      "model:\n",
      "  class: MultiLayerPerceptron\n",
      "  dropout_rate: 0.2\n",
      "  input_shape: (28, 28, 1)\n",
      "  output_units: 10\n",
      "  structure: [128]\n",
      "optimizer:\n",
      "  class: RMSprop\n",
      "  epsilon: 1e-07\n",
      "  learning_rate: 0.001\n",
      "  momentum: 0.0\n",
      "  rho: 0.9\n",
      "\n"
     ]
    },
    {
     "name": "stderr",
     "output_type": "stream",
     "text": [
      "2021-08-25 03:31:25.391946: I tensorflow/stream_executor/platform/default/dso_loader.cc:53] Successfully opened dynamic library libcuda.so.1\n",
      "2021-08-25 03:31:25.484259: I tensorflow/stream_executor/cuda/cuda_gpu_executor.cc:937] successful NUMA node read from SysFS had negative value (-1), but there must be at least one NUMA node, so returning NUMA node zero\n",
      "2021-08-25 03:31:25.484695: I tensorflow/core/common_runtime/gpu/gpu_device.cc:1733] Found device 0 with properties: \n",
      "pciBusID: 0000:0b:00.0 name: NVIDIA GeForce RTX 2080 Ti computeCapability: 7.5\n",
      "coreClock: 1.545GHz coreCount: 68 deviceMemorySize: 10.75GiB deviceMemoryBandwidth: 573.69GiB/s\n",
      "2021-08-25 03:31:25.484706: I tensorflow/stream_executor/platform/default/dso_loader.cc:53] Successfully opened dynamic library libcudart.so.11.0\n",
      "2021-08-25 03:31:25.486441: I tensorflow/stream_executor/platform/default/dso_loader.cc:53] Successfully opened dynamic library libcublas.so.11\n",
      "2021-08-25 03:31:25.486469: I tensorflow/stream_executor/platform/default/dso_loader.cc:53] Successfully opened dynamic library libcublasLt.so.11\n",
      "2021-08-25 03:31:25.487035: I tensorflow/stream_executor/platform/default/dso_loader.cc:53] Successfully opened dynamic library libcufft.so.10\n",
      "2021-08-25 03:31:25.487168: I tensorflow/stream_executor/platform/default/dso_loader.cc:53] Successfully opened dynamic library libcurand.so.10\n",
      "2021-08-25 03:31:25.487697: I tensorflow/stream_executor/platform/default/dso_loader.cc:53] Successfully opened dynamic library libcusolver.so.11\n",
      "2021-08-25 03:31:25.488123: I tensorflow/stream_executor/platform/default/dso_loader.cc:53] Successfully opened dynamic library libcusparse.so.11\n",
      "2021-08-25 03:31:25.488200: I tensorflow/stream_executor/platform/default/dso_loader.cc:53] Successfully opened dynamic library libcudnn.so.8\n",
      "2021-08-25 03:31:25.488284: I tensorflow/stream_executor/cuda/cuda_gpu_executor.cc:937] successful NUMA node read from SysFS had negative value (-1), but there must be at least one NUMA node, so returning NUMA node zero\n",
      "2021-08-25 03:31:25.488736: I tensorflow/stream_executor/cuda/cuda_gpu_executor.cc:937] successful NUMA node read from SysFS had negative value (-1), but there must be at least one NUMA node, so returning NUMA node zero\n",
      "2021-08-25 03:31:25.489126: I tensorflow/core/common_runtime/gpu/gpu_device.cc:1871] Adding visible gpu devices: 0\n",
      "2021-08-25 03:31:25.489358: I tensorflow/core/platform/cpu_feature_guard.cc:142] This TensorFlow binary is optimized with oneAPI Deep Neural Network Library (oneDNN) to use the following CPU instructions in performance-critical operations:  AVX2 FMA\n",
      "To enable them in other operations, rebuild TensorFlow with the appropriate compiler flags.\n",
      "2021-08-25 03:31:25.490253: I tensorflow/stream_executor/cuda/cuda_gpu_executor.cc:937] successful NUMA node read from SysFS had negative value (-1), but there must be at least one NUMA node, so returning NUMA node zero\n",
      "2021-08-25 03:31:25.490656: I tensorflow/core/common_runtime/gpu/gpu_device.cc:1733] Found device 0 with properties: \n",
      "pciBusID: 0000:0b:00.0 name: NVIDIA GeForce RTX 2080 Ti computeCapability: 7.5\n",
      "coreClock: 1.545GHz coreCount: 68 deviceMemorySize: 10.75GiB deviceMemoryBandwidth: 573.69GiB/s\n",
      "2021-08-25 03:31:25.490699: I tensorflow/stream_executor/cuda/cuda_gpu_executor.cc:937] successful NUMA node read from SysFS had negative value (-1), but there must be at least one NUMA node, so returning NUMA node zero\n",
      "2021-08-25 03:31:25.491115: I tensorflow/stream_executor/cuda/cuda_gpu_executor.cc:937] successful NUMA node read from SysFS had negative value (-1), but there must be at least one NUMA node, so returning NUMA node zero\n",
      "2021-08-25 03:31:25.491511: I tensorflow/core/common_runtime/gpu/gpu_device.cc:1871] Adding visible gpu devices: 0\n",
      "2021-08-25 03:31:25.491533: I tensorflow/stream_executor/platform/default/dso_loader.cc:53] Successfully opened dynamic library libcudart.so.11.0\n",
      "2021-08-25 03:31:25.847708: I tensorflow/core/common_runtime/gpu/gpu_device.cc:1258] Device interconnect StreamExecutor with strength 1 edge matrix:\n",
      "2021-08-25 03:31:25.847725: I tensorflow/core/common_runtime/gpu/gpu_device.cc:1264]      0 \n",
      "2021-08-25 03:31:25.847730: I tensorflow/core/common_runtime/gpu/gpu_device.cc:1277] 0:   N \n",
      "2021-08-25 03:31:25.847913: I tensorflow/stream_executor/cuda/cuda_gpu_executor.cc:937] successful NUMA node read from SysFS had negative value (-1), but there must be at least one NUMA node, so returning NUMA node zero\n",
      "2021-08-25 03:31:25.848341: I tensorflow/stream_executor/cuda/cuda_gpu_executor.cc:937] successful NUMA node read from SysFS had negative value (-1), but there must be at least one NUMA node, so returning NUMA node zero\n",
      "2021-08-25 03:31:25.848741: I tensorflow/stream_executor/cuda/cuda_gpu_executor.cc:937] successful NUMA node read from SysFS had negative value (-1), but there must be at least one NUMA node, so returning NUMA node zero\n",
      "2021-08-25 03:31:25.849121: I tensorflow/core/common_runtime/gpu/gpu_device.cc:1418] Created TensorFlow device (/job:localhost/replica:0/task:0/device:GPU:0 with 9655 MB memory) -> physical GPU (device: 0, name: NVIDIA GeForce RTX 2080 Ti, pci bus id: 0000:0b:00.0, compute capability: 7.5)\n"
     ]
    }
   ],
   "source": [
    "experiment = MLExperiment(config)\n",
    "\n",
    "print(experiment.config_summary())"
   ]
  },
  {
   "cell_type": "markdown",
   "metadata": {},
   "source": [
    "We can start training the model for a given number of epochs:"
   ]
  },
  {
   "cell_type": "code",
   "execution_count": 4,
   "metadata": {},
   "outputs": [
    {
     "name": "stdout",
     "output_type": "stream",
     "text": [
      "Training for 2 epochs...\n",
      "Epoch 1/2\n"
     ]
    },
    {
     "name": "stderr",
     "output_type": "stream",
     "text": [
      "2021-08-25 03:31:29.683515: I tensorflow/compiler/mlir/mlir_graph_optimization_pass.cc:176] None of the MLIR Optimization Passes are enabled (registered 2)\n",
      "2021-08-25 03:31:29.703694: I tensorflow/core/platform/profile_utils/cpu_utils.cc:114] CPU Frequency: 3792935000 Hz\n",
      "2021-08-25 03:31:29.933653: I tensorflow/stream_executor/platform/default/dso_loader.cc:53] Successfully opened dynamic library libcublas.so.11\n"
     ]
    },
    {
     "name": "stdout",
     "output_type": "stream",
     "text": [
      " 112/1875 [>.............................] - ETA: 2s - loss: 0.8235 - accuracy: 0.7617"
     ]
    },
    {
     "name": "stderr",
     "output_type": "stream",
     "text": [
      "2021-08-25 03:31:30.261106: I tensorflow/stream_executor/platform/default/dso_loader.cc:53] Successfully opened dynamic library libcublasLt.so.11\n"
     ]
    },
    {
     "name": "stdout",
     "output_type": "stream",
     "text": [
      "1875/1875 [==============================] - 4s 2ms/step - loss: 0.2919 - accuracy: 0.9137 - val_loss: 0.1477 - val_accuracy: 0.9549\n",
      "Epoch 2/2\n",
      "1875/1875 [==============================] - 3s 2ms/step - loss: 0.1529 - accuracy: 0.9566 - val_loss: 0.1171 - val_accuracy: 0.9674\n",
      "Training finished\n"
     ]
    }
   ],
   "source": [
    "experiment.run(epochs=2)"
   ]
  },
  {
   "cell_type": "markdown",
   "metadata": {},
   "source": [
    "### Saving and restoring an experiment\n",
    "\n",
    "The current experiment's state can been saved into file:"
   ]
  },
  {
   "cell_type": "code",
   "execution_count": null,
   "metadata": {},
   "outputs": [],
   "source": [
    "from config_state import Serializer\n",
    "import tempfile\n",
    "from pathlib import Path\n",
    "\n",
    "# create a temporary directory\n",
    "temp_dir = tempfile.TemporaryDirectory()\n",
    "\n",
    "# file that will store the experiment\n",
    "file_path = Path(temp_dir.name) / 'exp.save'\n",
    "\n",
    "# save the experiment using the Pickle serializer\n",
    "Serializer({'class': 'Pickle'}).save(experiment, file_path)"
   ]
  },
  {
   "cell_type": "markdown",
   "metadata": {},
   "source": [
    "The experiment can be restored and resumed:"
   ]
  },
  {
   "cell_type": "code",
   "execution_count": null,
   "metadata": {},
   "outputs": [],
   "source": [
    "experiment = Serializer({'class': 'Pickle'}).load(file_path)\n",
    "\n",
    "experiment.run(epochs=2)\n",
    "\n",
    "temp_dir.cleanup()"
   ]
  },
  {
   "cell_type": "markdown",
   "metadata": {},
   "source": [
    "### Configuring a new experiment\n",
    "\n",
    "We can customize the config dictionary to design a new experiment with a different datatet, model or optimizer:"
   ]
  },
  {
   "cell_type": "code",
   "execution_count": null,
   "metadata": {},
   "outputs": [],
   "source": [
    "config['dataset'] = {\n",
    "    'name': 'cifar10' # https://www.tensorflow.org/datasets/catalog/overview#image_classification\n",
    "}\n",
    "config['model'] = {\n",
    "    'class': 'CNN',\n",
    "    'structure': [32, 'max', 64, 'max', 64]\n",
    "}\n",
    "config['optimizer'] = {\n",
    "    'class': 'Adam',\n",
    "    'learning_rate': 0.001\n",
    "}\n",
    "\n",
    "experiment = MLExperiment(config)\n",
    "\n",
    "print(experiment.config_summary())\n",
    "\n",
    "experiment.run(epochs=20)"
   ]
  },
  {
   "cell_type": "markdown",
   "metadata": {},
   "source": [
    "### ConfigState objects composability\n",
    "\n",
    "`ConfigState` is convenient for compositing objects. For instance we can nest a `Model` into another `Ensembler` model:"
   ]
  },
  {
   "cell_type": "code",
   "execution_count": null,
   "metadata": {},
   "outputs": [],
   "source": [
    "cnn_model = {\n",
    "    'class': 'CNN',\n",
    "    'structure': [32, 'max', 64, 'max', 64]\n",
    "}\n",
    "\n",
    "config['model'] = {\n",
    "    'class': 'Ensembler',\n",
    "    'model': cnn_model,\n",
    "    'ensemble_size': 4\n",
    "}\n",
    "\n",
    "config['dataset'] = {\n",
    "    'name': 'cifar10',\n",
    "    'batch_size': 128 # We augment the batch_size so that each ensembled models train on batches of 32 elements\n",
    "}\n",
    "\n",
    "experiment = MLExperiment(config)\n",
    "\n",
    "print(experiment.config_summary())\n",
    "\n",
    "print(experiment.model.keras_model.summary())\n"
   ]
  },
  {
   "cell_type": "code",
   "execution_count": null,
   "metadata": {},
   "outputs": [],
   "source": [
    "experiment.run(epochs=20)"
   ]
  },
  {
   "cell_type": "markdown",
   "metadata": {},
   "source": [
    "Since `Ensembler` is itself a `Model`, we can compose it into another `Ensemble` such that we can define models that are ensemble of ensemble:"
   ]
  },
  {
   "cell_type": "code",
   "execution_count": 5,
   "metadata": {},
   "outputs": [
    {
     "name": "stdout",
     "output_type": "stream",
     "text": [
      "Tracing 4\n",
      "Tracing 4\n",
      "dataset:\n",
      "  batch_size: 512\n",
      "  name: cifar10\n",
      "model:\n",
      "  class: Ensembler\n",
      "  ensemble_size: 4\n",
      "  input_shape: (32, 32, 3)\n",
      "  model:\n",
      "    class: Ensembler\n",
      "    ensemble_size: 4\n",
      "    input_shape: (32, 32, 3)\n",
      "    model:\n",
      "      class: CNN\n",
      "      input_shape: (32, 32, 3)\n",
      "      output_units: 10\n",
      "      structure: [32, max, 64, max, 64]\n",
      "    output_units: 10\n",
      "  output_units: 10\n",
      "optimizer:\n",
      "  class: RMSprop\n",
      "  epsilon: 1e-07\n",
      "  learning_rate: 0.001\n",
      "  momentum: 0.0\n",
      "  rho: 0.9\n",
      "\n",
      "Model: \"model_4\"\n",
      "__________________________________________________________________________________________________\n",
      "Layer (type)                    Output Shape         Param #     Connected to                     \n",
      "==================================================================================================\n",
      "input_21 (InputLayer)           [(None, 32, 32, 3)]  0                                            \n",
      "__________________________________________________________________________________________________\n",
      "lambda_8 (Lambda)               [(None, 32, 32, 3),  0           input_21[0][0]                   \n",
      "__________________________________________________________________________________________________\n",
      "model (Functional)              (None, 10)           266280      lambda_8[0][0]                   \n",
      "__________________________________________________________________________________________________\n",
      "model_1 (Functional)            (None, 10)           266280      lambda_8[0][1]                   \n",
      "__________________________________________________________________________________________________\n",
      "model_2 (Functional)            (None, 10)           266280      lambda_8[0][2]                   \n",
      "__________________________________________________________________________________________________\n",
      "model_3 (Functional)            (None, 10)           266280      lambda_8[0][3]                   \n",
      "__________________________________________________________________________________________________\n",
      "lambda_9 (Lambda)               (None, 10)           0           model[0][0]                      \n",
      "                                                                 model_1[0][0]                    \n",
      "                                                                 model_2[0][0]                    \n",
      "                                                                 model_3[0][0]                    \n",
      "==================================================================================================\n",
      "Total params: 1,065,120\n",
      "Trainable params: 1,065,120\n",
      "Non-trainable params: 0\n",
      "__________________________________________________________________________________________________\n",
      "None\n"
     ]
    }
   ],
   "source": [
    "cnn_model = {\n",
    "    'class': 'CNN',\n",
    "    'structure': [32, 'max', 64, 'max', 64]\n",
    "}\n",
    "\n",
    "ensemble = {\n",
    "    'class': 'Ensembler',\n",
    "    'model': cnn_model,\n",
    "    'ensemble_size': 4\n",
    "}\n",
    "\n",
    "config['model'] = {\n",
    "    'class': 'Ensembler',\n",
    "    'model': ensemble,\n",
    "    'ensemble_size': 4\n",
    "}\n",
    "\n",
    "config['dataset'] = {\n",
    "    'name': 'cifar10',\n",
    "    'batch_size': 512\n",
    "}\n",
    "\n",
    "experiment = MLExperiment(config)\n",
    "\n",
    "# ensemble_ensemble_exp.model.model.output_units\n",
    "print(experiment.config_summary())\n",
    "\n",
    "print(experiment.model.keras_model.summary())\n"
   ]
  },
  {
   "cell_type": "code",
   "execution_count": 7,
   "metadata": {},
   "outputs": [
    {
     "name": "stdout",
     "output_type": "stream",
     "text": [
      "Training for 3 epochs...\n",
      "Epoch 2/4\n",
      "98/98 [==============================] - 3s 33ms/step - loss: 1.9032 - accuracy: 0.3086 - val_loss: 1.7122 - val_accuracy: 0.3986\n",
      "Epoch 3/4\n",
      "98/98 [==============================] - 3s 32ms/step - loss: 1.7761 - accuracy: 0.3572 - val_loss: 1.6099 - val_accuracy: 0.4339\n",
      "Epoch 4/4\n",
      "98/98 [==============================] - 3s 32ms/step - loss: 1.6895 - accuracy: 0.3885 - val_loss: 1.5264 - val_accuracy: 0.4638\n",
      "Training finished\n"
     ]
    }
   ],
   "source": [
    "experiment.run(epochs=1)"
   ]
  },
  {
   "cell_type": "code",
   "execution_count": null,
   "metadata": {},
   "outputs": [],
   "source": []
  }
 ],
 "metadata": {
  "kernelspec": {
   "display_name": "Python 3 (ipykernel)",
   "language": "python",
   "name": "python3"
  },
  "language_info": {
   "codemirror_mode": {
    "name": "ipython",
    "version": 3
   },
   "file_extension": ".py",
   "mimetype": "text/x-python",
   "name": "python",
   "nbconvert_exporter": "python",
   "pygments_lexer": "ipython3",
   "version": "3.9.5"
  }
 },
 "nbformat": 4,
 "nbformat_minor": 1
}